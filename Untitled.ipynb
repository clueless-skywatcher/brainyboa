{
 "cells": [
  {
   "cell_type": "code",
   "execution_count": 1,
   "metadata": {},
   "outputs": [],
   "source": [
    "from brainyboa.linear import LinearRegressor\n",
    "from sklearn.linear_model import LinearRegression\n",
    "import numpy as np\n",
    "import matplotlib.pyplot as plt"
   ]
  },
  {
   "cell_type": "code",
   "execution_count": 2,
   "metadata": {},
   "outputs": [
    {
     "name": "stdout",
     "output_type": "stream",
     "text": [
      "[[4.05866127]\n",
      " [0.69405043]\n",
      " [3.21489284]\n",
      " [3.12064115]\n",
      " [2.20709004]\n",
      " [4.41914112]\n",
      " [4.36906031]\n",
      " [3.73041015]\n",
      " [2.06070133]\n",
      " [0.82659039]]\n",
      "[[1.42546323]\n",
      " [1.69694255]\n",
      " [4.26266305]\n",
      " [3.9145957 ]\n",
      " [3.22795684]\n",
      " [1.14067378]\n",
      " [0.94827093]\n",
      " [2.44598445]\n",
      " [2.79805693]\n",
      " [0.1276367 ]]\n"
     ]
    }
   ],
   "source": [
    "lin = LinearRegressor()\n",
    "X1 = np.random.rand(10, 1) * 5\n",
    "X2 = np.random.rand(10, 1) * 5\n",
    "Y = 4 * X1 + 5 * X2 + 8 + np.random.rand(10, 1)\n",
    "print(X1)\n",
    "print(X2)"
   ]
  },
  {
   "cell_type": "code",
   "execution_count": 3,
   "metadata": {},
   "outputs": [
    {
     "data": {
      "text/plain": [
       "(array([3.97643828, 5.16833252]), array([8.12833494]))"
      ]
     },
     "execution_count": 3,
     "metadata": {},
     "output_type": "execute_result"
    }
   ],
   "source": [
    "X = np.concatenate((X1, X2), axis = 1)\n",
    "lin.fit(X, Y)\n",
    "lin.coeffs, lin.intercept"
   ]
  },
  {
   "cell_type": "code",
   "execution_count": 4,
   "metadata": {},
   "outputs": [
    {
     "data": {
      "text/plain": [
       "LinearRegression(copy_X=True, fit_intercept=True, n_jobs=1, normalize=False)"
      ]
     },
     "execution_count": 4,
     "metadata": {},
     "output_type": "execute_result"
    }
   ],
   "source": [
    "lin2 = LinearRegression()\n",
    "lin2.fit(X, Y)"
   ]
  },
  {
   "cell_type": "code",
   "execution_count": 5,
   "metadata": {},
   "outputs": [
    {
     "data": {
      "text/plain": [
       "(array([8.12833494]), array([[3.97643828, 5.16833252]]))"
      ]
     },
     "execution_count": 5,
     "metadata": {},
     "output_type": "execute_result"
    }
   ],
   "source": [
    "lin2.intercept_, lin2.coef_"
   ]
  },
  {
   "cell_type": "code",
   "execution_count": null,
   "metadata": {},
   "outputs": [],
   "source": []
  },
  {
   "cell_type": "code",
   "execution_count": 6,
   "metadata": {},
   "outputs": [],
   "source": [
    "X_t = np.matrix([[1, 2], [3, 4], [4, 5]])\n",
    "pred1 = lin.regress(X_t)\n",
    "pred2 = lin2.predict(X_t)"
   ]
  },
  {
   "cell_type": "code",
   "execution_count": 7,
   "metadata": {},
   "outputs": [
    {
     "name": "stdout",
     "output_type": "stream",
     "text": [
      "[[22.44143825]\n",
      " [40.73097985]\n",
      " [49.87575065]]\n",
      "[[22.44143825]\n",
      " [40.73097985]\n",
      " [49.87575065]]\n"
     ]
    }
   ],
   "source": [
    "print(pred1)\n",
    "print(pred2)"
   ]
  },
  {
   "cell_type": "code",
   "execution_count": null,
   "metadata": {},
   "outputs": [],
   "source": []
  }
 ],
 "metadata": {
  "kernelspec": {
   "display_name": "Python 3",
   "language": "python",
   "name": "python3"
  },
  "language_info": {
   "codemirror_mode": {
    "name": "ipython",
    "version": 3
   },
   "file_extension": ".py",
   "mimetype": "text/x-python",
   "name": "python",
   "nbconvert_exporter": "python",
   "pygments_lexer": "ipython3",
   "version": "3.7.0"
  }
 },
 "nbformat": 4,
 "nbformat_minor": 2
}
